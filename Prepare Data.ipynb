{
 "cells": [
  {
   "cell_type": "markdown",
   "metadata": {},
   "source": [
    "# Organizing and Preparing Data from Raw Data"
   ]
  },
  {
   "cell_type": "code",
   "execution_count": 1,
   "metadata": {},
   "outputs": [
    {
     "data": {
      "text/html": [
       "<div>\n",
       "<style scoped>\n",
       "    .dataframe tbody tr th:only-of-type {\n",
       "        vertical-align: middle;\n",
       "    }\n",
       "\n",
       "    .dataframe tbody tr th {\n",
       "        vertical-align: top;\n",
       "    }\n",
       "\n",
       "    .dataframe thead th {\n",
       "        text-align: right;\n",
       "    }\n",
       "</style>\n",
       "<table border=\"1\" class=\"dataframe\">\n",
       "  <thead>\n",
       "    <tr style=\"text-align: right;\">\n",
       "      <th></th>\n",
       "      <th>text</th>\n",
       "      <th>categories</th>\n",
       "    </tr>\n",
       "  </thead>\n",
       "  <tbody>\n",
       "    <tr>\n",
       "      <th>0</th>\n",
       "      <td>b\"From: vdp@mayo.edu (Vinayak Dutt)\\nSubject: ...</td>\n",
       "      <td>alt.atheism</td>\n",
       "    </tr>\n",
       "    <tr>\n",
       "      <th>1</th>\n",
       "      <td>b'From: I3150101@dbstu1.rz.tu-bs.de (Benedikt ...</td>\n",
       "      <td>alt.atheism</td>\n",
       "    </tr>\n",
       "    <tr>\n",
       "      <th>2</th>\n",
       "      <td>b'Subject: Re: Alleged Deathbed Conversions (w...</td>\n",
       "      <td>alt.atheism</td>\n",
       "    </tr>\n",
       "    <tr>\n",
       "      <th>3</th>\n",
       "      <td>b'From: livesey@solntze.wpd.sgi.com (Jon Lives...</td>\n",
       "      <td>alt.atheism</td>\n",
       "    </tr>\n",
       "    <tr>\n",
       "      <th>4</th>\n",
       "      <td>b'Subject: Re: islamic authority over women\\nF...</td>\n",
       "      <td>alt.atheism</td>\n",
       "    </tr>\n",
       "  </tbody>\n",
       "</table>\n",
       "</div>"
      ],
      "text/plain": [
       "                                                text   categories\n",
       "0  b\"From: vdp@mayo.edu (Vinayak Dutt)\\nSubject: ...  alt.atheism\n",
       "1  b'From: I3150101@dbstu1.rz.tu-bs.de (Benedikt ...  alt.atheism\n",
       "2  b'Subject: Re: Alleged Deathbed Conversions (w...  alt.atheism\n",
       "3  b'From: livesey@solntze.wpd.sgi.com (Jon Lives...  alt.atheism\n",
       "4  b'Subject: Re: islamic authority over women\\nF...  alt.atheism"
      ]
     },
     "execution_count": 1,
     "metadata": {},
     "output_type": "execute_result"
    }
   ],
   "source": [
    "import os\n",
    "import pandas as pd\n",
    "import numpy as np\n",
    "\n",
    "RANDOM_SEED = 42\n",
    "np.random.seed(RANDOM_SEED)\n",
    "\n",
    "words = []\n",
    "labels = []\n",
    "\n",
    "categories = \"dataset/20news-18828-v2/20news-18828/\"\n",
    "for category in os.listdir(categories):\n",
    "    category_dir = f\"{categories}/{category}\"\n",
    "    for filename in os.listdir(category_dir):\n",
    "        category_filepath = f\"{categories}/{category}/{filename}\"\n",
    "        if os.path.isfile(category_filepath):\n",
    "            f = open(category_filepath, \"rb\")\n",
    "            word = f.read() #read contents of each file\n",
    "            words.append(word)\n",
    "            labels.append(category)\n",
    "\n",
    "raw_dataset = pd.DataFrame({'text': pd.Series(words,dtype=\"string\"), 'categories': pd.Series(labels,dtype=\"string\")})\n",
    "raw_dataset.head()"
   ]
  },
  {
   "cell_type": "code",
   "execution_count": 2,
   "metadata": {},
   "outputs": [],
   "source": [
    "raw_dataset.to_csv('dataset/organized_dataset.csv', index=False, header=True)"
   ]
  },
  {
   "cell_type": "markdown",
   "metadata": {},
   "source": [
    "## Splitting data to Train and Test sets"
   ]
  },
  {
   "cell_type": "code",
   "execution_count": 3,
   "metadata": {},
   "outputs": [],
   "source": [
    "full_df = pd.read_csv(\"dataset/organized_dataset.csv\")"
   ]
  },
  {
   "cell_type": "code",
   "execution_count": 4,
   "metadata": {},
   "outputs": [],
   "source": [
    "from sklearn.model_selection import train_test_split\n",
    "\n",
    "train_df, test_df = train_test_split(full_df, \n",
    "                                     test_size=0.30, #Split dataset to 70 - 30\n",
    "                                     stratify=full_df['categories'], #strategically splits the dataset based on the proportion of samples per class\n",
    "                                     random_state=RANDOM_SEED)"
   ]
  },
  {
   "cell_type": "code",
   "execution_count": 5,
   "metadata": {},
   "outputs": [
    {
     "data": {
      "text/plain": [
       "rec.sport.hockey            699\n",
       "soc.religion.christian      698\n",
       "rec.sport.baseball          696\n",
       "rec.motorcycles             696\n",
       "sci.crypt                   694\n",
       "rec.autos                   693\n",
       "sci.med                     693\n",
       "sci.space                   691\n",
       "comp.os.ms-windows.misc     689\n",
       "comp.sys.ibm.pc.hardware    687\n",
       "sci.electronics             687\n",
       "comp.windows.x              686\n",
       "comp.graphics               681\n",
       "misc.forsale                680\n",
       "comp.sys.mac.hardware       673\n",
       "talk.politics.mideast       658\n",
       "talk.politics.guns          637\n",
       "alt.atheism                 559\n",
       "talk.politics.misc          542\n",
       "talk.religion.misc          440\n",
       "Name: categories, dtype: int64"
      ]
     },
     "execution_count": 5,
     "metadata": {},
     "output_type": "execute_result"
    }
   ],
   "source": [
    "train_df['categories'].value_counts()"
   ]
  },
  {
   "cell_type": "code",
   "execution_count": 6,
   "metadata": {},
   "outputs": [
    {
     "data": {
      "text/plain": [
       "rec.sport.hockey            300\n",
       "soc.religion.christian      299\n",
       "rec.sport.baseball          298\n",
       "rec.motorcycles             298\n",
       "sci.crypt                   297\n",
       "rec.autos                   297\n",
       "sci.med                     297\n",
       "comp.os.ms-windows.misc     296\n",
       "sci.space                   296\n",
       "comp.sys.ibm.pc.hardware    295\n",
       "comp.windows.x              294\n",
       "sci.electronics             294\n",
       "comp.graphics               292\n",
       "misc.forsale                292\n",
       "comp.sys.mac.hardware       288\n",
       "talk.politics.mideast       282\n",
       "talk.politics.guns          273\n",
       "alt.atheism                 240\n",
       "talk.politics.misc          233\n",
       "talk.religion.misc          188\n",
       "Name: categories, dtype: int64"
      ]
     },
     "execution_count": 6,
     "metadata": {},
     "output_type": "execute_result"
    }
   ],
   "source": [
    "test_df['categories'].value_counts()"
   ]
  },
  {
   "cell_type": "code",
   "execution_count": 7,
   "metadata": {},
   "outputs": [],
   "source": [
    "train_df.to_csv(\"dataset/train.csv\", index=False, header=True)"
   ]
  },
  {
   "cell_type": "code",
   "execution_count": 8,
   "metadata": {},
   "outputs": [],
   "source": [
    "test_df.to_csv(\"dataset/test.csv\", index=False, header=True)"
   ]
  },
  {
   "cell_type": "code",
   "execution_count": null,
   "metadata": {},
   "outputs": [],
   "source": []
  }
 ],
 "metadata": {
  "kernelspec": {
   "display_name": "Python 3",
   "language": "python",
   "name": "python3"
  },
  "language_info": {
   "codemirror_mode": {
    "name": "ipython",
    "version": 3
   },
   "file_extension": ".py",
   "mimetype": "text/x-python",
   "name": "python",
   "nbconvert_exporter": "python",
   "pygments_lexer": "ipython3",
   "version": "3.6.9"
  }
 },
 "nbformat": 4,
 "nbformat_minor": 4
}
