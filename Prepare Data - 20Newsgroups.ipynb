{
 "cells": [
  {
   "cell_type": "markdown",
   "metadata": {},
   "source": [
    "# Organizing and Preparing Data"
   ]
  },
  {
   "cell_type": "code",
   "execution_count": 14,
   "metadata": {},
   "outputs": [
    {
     "data": {
      "text/html": [
       "<div>\n",
       "<style scoped>\n",
       "    .dataframe tbody tr th:only-of-type {\n",
       "        vertical-align: middle;\n",
       "    }\n",
       "\n",
       "    .dataframe tbody tr th {\n",
       "        vertical-align: top;\n",
       "    }\n",
       "\n",
       "    .dataframe thead th {\n",
       "        text-align: right;\n",
       "    }\n",
       "</style>\n",
       "<table border=\"1\" class=\"dataframe\">\n",
       "  <thead>\n",
       "    <tr style=\"text-align: right;\">\n",
       "      <th></th>\n",
       "      <th>text</th>\n",
       "      <th>categories</th>\n",
       "    </tr>\n",
       "  </thead>\n",
       "  <tbody>\n",
       "    <tr>\n",
       "      <th>0</th>\n",
       "      <td>b\"From: vdp@mayo.edu (Vinayak Dutt)\\nSubject: ...</td>\n",
       "      <td>alt.atheism</td>\n",
       "    </tr>\n",
       "    <tr>\n",
       "      <th>1</th>\n",
       "      <td>b'From: I3150101@dbstu1.rz.tu-bs.de (Benedikt ...</td>\n",
       "      <td>alt.atheism</td>\n",
       "    </tr>\n",
       "    <tr>\n",
       "      <th>2</th>\n",
       "      <td>b'Subject: Re: Alleged Deathbed Conversions (w...</td>\n",
       "      <td>alt.atheism</td>\n",
       "    </tr>\n",
       "    <tr>\n",
       "      <th>3</th>\n",
       "      <td>b'From: livesey@solntze.wpd.sgi.com (Jon Lives...</td>\n",
       "      <td>alt.atheism</td>\n",
       "    </tr>\n",
       "    <tr>\n",
       "      <th>4</th>\n",
       "      <td>b'Subject: Re: islamic authority over women\\nF...</td>\n",
       "      <td>alt.atheism</td>\n",
       "    </tr>\n",
       "  </tbody>\n",
       "</table>\n",
       "</div>"
      ],
      "text/plain": [
       "                                                text   categories\n",
       "0  b\"From: vdp@mayo.edu (Vinayak Dutt)\\nSubject: ...  alt.atheism\n",
       "1  b'From: I3150101@dbstu1.rz.tu-bs.de (Benedikt ...  alt.atheism\n",
       "2  b'Subject: Re: Alleged Deathbed Conversions (w...  alt.atheism\n",
       "3  b'From: livesey@solntze.wpd.sgi.com (Jon Lives...  alt.atheism\n",
       "4  b'Subject: Re: islamic authority over women\\nF...  alt.atheism"
      ]
     },
     "execution_count": 14,
     "metadata": {},
     "output_type": "execute_result"
    }
   ],
   "source": [
    "import os\n",
    "import pandas as pd\n",
    "import numpy as np\n",
    "np.random.seed(42)\n",
    "\n",
    "words = []\n",
    "labels = []\n",
    "\n",
    "categories = \"dataset/20news-18828-v2/20news-18828/\"\n",
    "for category in os.listdir(categories):\n",
    "    category_dir = f\"{categories}/{category}\"\n",
    "    for filename in os.listdir(category_dir):\n",
    "        category_filepath = f\"{categories}/{category}/{filename}\"\n",
    "        if os.path.isfile(category_filepath):\n",
    "            f = open(category_filepath, \"rb\")\n",
    "            word = f.read() #read contents of each file\n",
    "            words.append(word)\n",
    "            labels.append(category)\n",
    "\n",
    "raw_dataset = pd.DataFrame({'text': pd.Series(words,dtype=\"string\"), 'categories': pd.Series(labels,dtype=\"string\")})\n",
    "raw_dataset.head()"
   ]
  },
  {
   "cell_type": "code",
   "execution_count": 15,
   "metadata": {},
   "outputs": [],
   "source": [
    "raw_dataset.to_csv('dataset/organized_dataset.csv', index=False, header=True)"
   ]
  },
  {
   "cell_type": "markdown",
   "metadata": {},
   "source": [
    "## Splitting data to Train and Test sets"
   ]
  },
  {
   "cell_type": "code",
   "execution_count": 16,
   "metadata": {},
   "outputs": [],
   "source": [
    "full_df = pd.read_csv(\"dataset/organized_dataset.csv\")"
   ]
  },
  {
   "cell_type": "code",
   "execution_count": 17,
   "metadata": {},
   "outputs": [],
   "source": [
    "from sklearn.model_selection import train_test_split\n",
    "\n",
    "train_df, test_df = train_test_split(full_df, test_size=0.20, stratify=full_df['categories'], random_state=42)"
   ]
  },
  {
   "cell_type": "code",
   "execution_count": 18,
   "metadata": {},
   "outputs": [
    {
     "data": {
      "text/plain": [
       "rec.sport.hockey            799\n",
       "soc.religion.christian      797\n",
       "rec.sport.baseball          795\n",
       "rec.motorcycles             795\n",
       "sci.crypt                   793\n",
       "sci.med                     792\n",
       "rec.autos                   792\n",
       "sci.space                   790\n",
       "comp.os.ms-windows.misc     788\n",
       "comp.sys.ibm.pc.hardware    786\n",
       "sci.electronics             785\n",
       "comp.windows.x              784\n",
       "misc.forsale                778\n",
       "comp.graphics               778\n",
       "comp.sys.mac.hardware       769\n",
       "talk.politics.mideast       752\n",
       "talk.politics.guns          728\n",
       "alt.atheism                 639\n",
       "talk.politics.misc          620\n",
       "talk.religion.misc          502\n",
       "Name: categories, dtype: int64"
      ]
     },
     "execution_count": 18,
     "metadata": {},
     "output_type": "execute_result"
    }
   ],
   "source": [
    "train_df['categories'].value_counts()"
   ]
  },
  {
   "cell_type": "code",
   "execution_count": 19,
   "metadata": {},
   "outputs": [
    {
     "data": {
      "text/plain": [
       "soc.religion.christian      200\n",
       "rec.sport.hockey            200\n",
       "rec.motorcycles             199\n",
       "rec.sport.baseball          199\n",
       "sci.med                     198\n",
       "rec.autos                   198\n",
       "sci.crypt                   198\n",
       "sci.space                   197\n",
       "comp.os.ms-windows.misc     197\n",
       "sci.electronics             196\n",
       "comp.windows.x              196\n",
       "comp.sys.ibm.pc.hardware    196\n",
       "comp.graphics               195\n",
       "misc.forsale                194\n",
       "comp.sys.mac.hardware       192\n",
       "talk.politics.mideast       188\n",
       "talk.politics.guns          182\n",
       "alt.atheism                 160\n",
       "talk.politics.misc          155\n",
       "talk.religion.misc          126\n",
       "Name: categories, dtype: int64"
      ]
     },
     "execution_count": 19,
     "metadata": {},
     "output_type": "execute_result"
    }
   ],
   "source": [
    "test_df['categories'].value_counts()"
   ]
  },
  {
   "cell_type": "code",
   "execution_count": 20,
   "metadata": {},
   "outputs": [],
   "source": [
    "train_df.to_csv(\"dataset/train.csv\", index=False, header=True)"
   ]
  },
  {
   "cell_type": "code",
   "execution_count": 21,
   "metadata": {},
   "outputs": [],
   "source": [
    "test_df.to_csv(\"dataset/test.csv\", index=False, header=True)"
   ]
  },
  {
   "cell_type": "code",
   "execution_count": null,
   "metadata": {},
   "outputs": [],
   "source": []
  }
 ],
 "metadata": {
  "kernelspec": {
   "display_name": "Python 3",
   "language": "python",
   "name": "python3"
  },
  "language_info": {
   "codemirror_mode": {
    "name": "ipython",
    "version": 3
   },
   "file_extension": ".py",
   "mimetype": "text/x-python",
   "name": "python",
   "nbconvert_exporter": "python",
   "pygments_lexer": "ipython3",
   "version": "3.6.9"
  }
 },
 "nbformat": 4,
 "nbformat_minor": 4
}
