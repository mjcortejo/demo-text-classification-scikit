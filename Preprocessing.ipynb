{
 "cells": [
  {
   "cell_type": "markdown",
   "metadata": {},
   "source": [
    "# Preprocessing"
   ]
  },
  {
   "cell_type": "code",
   "execution_count": 1,
   "metadata": {},
   "outputs": [],
   "source": [
    "import os\n",
    "import pandas as pd\n",
    "import numpy as np\n",
    "import re\n",
    "from sklearn.model_selection import train_test_split\n",
    "\n",
    "RANDOM_STATE = 42\n",
    "np.random.seed(RANDOM_STATE)"
   ]
  },
  {
   "cell_type": "code",
   "execution_count": 2,
   "metadata": {},
   "outputs": [
    {
     "name": "stderr",
     "output_type": "stream",
     "text": [
      "[nltk_data] Downloading package stopwords to /home/mark/nltk_data...\n",
      "[nltk_data]   Package stopwords is already up-to-date!\n"
     ]
    },
    {
     "data": {
      "text/plain": [
       "True"
      ]
     },
     "execution_count": 2,
     "metadata": {},
     "output_type": "execute_result"
    }
   ],
   "source": [
    "import nltk\n",
    "from nltk.corpus import stopwords\n",
    "nltk.download('stopwords')"
   ]
  },
  {
   "cell_type": "code",
   "execution_count": 3,
   "metadata": {},
   "outputs": [],
   "source": [
    "train_df = pd.read_csv(\"dataset/train.csv\")\n",
    "\n",
    "# train_df, val_df = train_test_split(full_df, \n",
    "#                                     test_size=0.20, # 30% of train set will be validation set\n",
    "#                                     stratify=full_df['categories'], #match the ratio of samples from train\n",
    "#                                     random_state=42)"
   ]
  },
  {
   "cell_type": "code",
   "execution_count": 4,
   "metadata": {},
   "outputs": [
    {
     "data": {
      "text/plain": [
       "13179"
      ]
     },
     "execution_count": 4,
     "metadata": {},
     "output_type": "execute_result"
    }
   ],
   "source": [
    "len(train_df)"
   ]
  },
  {
   "cell_type": "code",
   "execution_count": 5,
   "metadata": {},
   "outputs": [
    {
     "data": {
      "text/plain": [
       "'b\\'From: kadie@cs.uiuc.edu (Carl M Kadie)\\\\nSubject: Re: Organized Lobbying for Cryptography\\\\n\\\\nkubo@zariski.harvard.edu (Tal Kubo) writes:\\\\n\\\\n[...]\\\\n>The EFF has been associated with efforts to prevent the banning of sex\\\\n>and pictures newsgroups at various universities.\\\\n[...]\\\\n\\\\nSo what? Justices William Brennan, Thurgood Marshall, John Paul\\\\nStevens, and Byron White are associated with a plurality Supreme Court\\\\ndecision that prevented the removal of \"anti-American, anti-Christian,\\\\nanti-Semitic, and just plain filthy\" books from a public high school\\\\nlibrary [_Board of Education v. Pico_ (1982)]. Does this mean that\\\\nthey could no longer defend free expression and privacy?\\\\n\\\\n- Carl\\\\n-- \\\\nCarl Kadie -- I do not represent any organization; this is just me.\\\\n = kadie@cs.uiuc.edu =\\\\n\\''"
      ]
     },
     "execution_count": 5,
     "metadata": {},
     "output_type": "execute_result"
    }
   ],
   "source": [
    "train_df['text'][0]"
   ]
  },
  {
   "cell_type": "code",
   "execution_count": 6,
   "metadata": {},
   "outputs": [],
   "source": [
    "newline_regex = re.compile(r\"\\\\n\")\n",
    "english_stop_words = set(stopwords.words('english'))\n",
    "\n",
    "train_df['text'] = train_df['text'].apply(lambda x: ' '.join([word for word in x.split() if not word.isdigit()]))\n",
    "train_df['text'] = train_df['text'].apply(lambda x: ' '.join([word for word in x.split() if word not in english_stop_words]))\n",
    "train_df['text'] = train_df['text'].apply(lambda x: newline_regex.sub(\" \", x))"
   ]
  },
  {
   "cell_type": "code",
   "execution_count": 7,
   "metadata": {},
   "outputs": [
    {
     "data": {
      "text/plain": [
       "'b\\'From: kadie@cs.uiuc.edu (Carl M Kadie) Subject: Re: Organized Lobbying Cryptography  kubo@zariski.harvard.edu (Tal Kubo) writes:  [...] >The EFF associated efforts prevent banning sex >and pictures newsgroups various universities. [...]  So what? Justices William Brennan, Thurgood Marshall, John Paul Stevens, Byron White associated plurality Supreme Court decision prevented removal \"anti-American, anti-Christian, anti-Semitic, plain filthy\" books public high school library [_Board Education v. Pico_ (1982)]. Does mean that they could longer defend free expression privacy?  - Carl --  Carl Kadie -- I represent organization; me.  = kadie@cs.uiuc.edu = \\''"
      ]
     },
     "execution_count": 7,
     "metadata": {},
     "output_type": "execute_result"
    }
   ],
   "source": [
    "train_df['text'][0]"
   ]
  },
  {
   "cell_type": "code",
   "execution_count": 8,
   "metadata": {},
   "outputs": [],
   "source": [
    "train_df = train_df[['text', 'categories']]"
   ]
  },
  {
   "cell_type": "code",
   "execution_count": 9,
   "metadata": {},
   "outputs": [
    {
     "data": {
      "text/plain": [
       "13179"
      ]
     },
     "execution_count": 9,
     "metadata": {},
     "output_type": "execute_result"
    }
   ],
   "source": [
    "len(train_df)"
   ]
  },
  {
   "cell_type": "code",
   "execution_count": 10,
   "metadata": {},
   "outputs": [],
   "source": [
    "train_df.to_csv(\"dataset/new_train.csv\", index=False, header=True)"
   ]
  },
  {
   "cell_type": "code",
   "execution_count": 194,
   "metadata": {},
   "outputs": [],
   "source": [
    "# val_df.to_csv(\"dataset/new_test.csv\", index=False, header=True)"
   ]
  },
  {
   "cell_type": "code",
   "execution_count": null,
   "metadata": {},
   "outputs": [],
   "source": []
  }
 ],
 "metadata": {
  "kernelspec": {
   "display_name": "Python 3",
   "language": "python",
   "name": "python3"
  },
  "language_info": {
   "codemirror_mode": {
    "name": "ipython",
    "version": 3
   },
   "file_extension": ".py",
   "mimetype": "text/x-python",
   "name": "python",
   "nbconvert_exporter": "python",
   "pygments_lexer": "ipython3",
   "version": "3.6.9"
  }
 },
 "nbformat": 4,
 "nbformat_minor": 4
}
